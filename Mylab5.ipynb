{
 "cells": [
  {
   "cell_type": "markdown",
   "id": "b8c9623f",
   "metadata": {},
   "source": [
    "# Лабораторная работа №5\n",
    "## Выполнил студент группы Боджанг .М.Л"
   ]
  },
  {
   "cell_type": "markdown",
   "id": "6c0e765b",
   "metadata": {},
   "source": [
    "## Задание №1\n",
    "Реализовать методы поиска подстроки в строке. Добавить возможность ввода строки и подстроки с клавиатуры.\n",
    "Предусмотреть возможность существования пробела.\n",
    "Реализовать возможность выбора опции чувствительности или нечувствительности к регистру.\n",
    "Оценить время работы каждого алгоритма поиска и сравнить его со временем работы стандартной функции поиска, используемой\n",
    "в выбранном языке программирования.\n",
    "\n",
    "Алгоритм Кнута-Морриса-Пратта"
   ]
  },
  {
   "cell_type": "code",
   "execution_count": 13,
   "id": "ddeef4d7",
   "metadata": {},
   "outputs": [],
   "source": [
    "# Префикс-функция O(m)\n",
    "# Prefix function O(m)\n",
    "\n",
    "def prefix(string):\n",
    "    pi = [0] * len(string) # формируем массив pi (forming an array of pi)\n",
    "    i, j = 1, 0\n",
    "    while i < len(string):\n",
    "        if string[j] == string[i]:\n",
    "            i += 1\n",
    "            j += 1\n",
    "        else:\n",
    "            if j == 0:\n",
    "                pi[i] = 0\n",
    "                i += 1\n",
    "            else:\n",
    "                j = pi[j-1]\n",
    "    return pi\n",
    "\n",
    "# Алгоритм Кнута-Морриса-Пратта О(m+n) n-строка, m-подстрока \n",
    "# Knuth-Morris-Pratt algorithm About (m+n) n-string, m-substring\n",
    "\n",
    "def KMP(string, substring):\n",
    "    # добавляться индексы вхождения подстроки в строку\n",
    "    # indexes of the occurrence of a substring in a string are added\n",
    "    \n",
    "    arr_index = []\n",
    "    # индекс текущего символа в подстроке\n",
    "    # index of the current character in the substring\n",
    "    \n",
    "    substr_index = 0\n",
    "\n",
    "    p = prefix(substring)\n",
    "\n",
    "    for i in range(len(string)):\n",
    "        while substr_index > 0 and string[i] != substring[substr_index]:\n",
    "            # поиск подстроки в строке с использованием предыдущих символов подстроки.\n",
    "            # searching for a substring in a string using the previous characters of the substring.\n",
    "            \n",
    "            substr_index = p[substr_index - 1]\n",
    "        # равен ли текущий символ строки символу подстроки.\n",
    "        # whether the current character of the string is equal to the character of the substring.\n",
    "        \n",
    "        if string[i] == substring[substr_index]:\n",
    "            substr_index += 1\n",
    "        # нашли вхождение подстроки в строку\n",
    "        # found the occurrence of a substring in a string\n",
    "        \n",
    "        if substr_index == len(substring):\n",
    "            # добавляем индекс начала вхождения и конца вхождения в список arr_index.\n",
    "            # adding the index of the beginning of the occurrence and the end of the occurrence to the arr_index list.\n",
    "            \n",
    "            arr_index.append((i - len(substring) + 1, i + 1))\n",
    "            # Затем переменная k устанавливается в значение префикс-функции для substring[k-1].\n",
    "            # Then the variable k is set to the value of the prefix function for substring[k-1].\n",
    "            \n",
    "            substr_index = p[substr_index - 1]\n",
    "\n",
    "    return arr_index"
   ]
  },
  {
   "cell_type": "markdown",
   "id": "af6141b8",
   "metadata": {},
   "source": [
    "Алгоритм Бойера-Мура  (The Boyer-Moore algorithm)"
   ]
  },
  {
   "cell_type": "code",
   "execution_count": 14,
   "id": "064da9fd",
   "metadata": {},
   "outputs": [],
   "source": [
    "# Нужен для создания словаря в алг. Бойера-Мура\n",
    "from collections import defaultdict\n",
    "\n",
    "#Упрощенный Бойера-Мура\n",
    "def preprocess(substring):\n",
    "    #Строит таблицу смещений\n",
    "    T = [len(substring)]*256\n",
    "    for i in range(len(substring) - 1):\n",
    "        # присваиваем элементу массива T с индексом, равным ASCII-коду i-го символа слова w, значение, равное длине слова минус 1 минус i\n",
    "        T[ord(substring[i])] = len(substring) - 1 - i\n",
    "    return T\n",
    "\n",
    "#Алгоритм Бойера-Мура\n",
    "def BM(string, substring):\n",
    "    A = []\n",
    "    T = preprocess(substring)\n",
    "    # отслеживания текущей позиции в строке\n",
    "    skip = 0\n",
    "    # пока остаток строки после скип не будет меньше длины слова.\n",
    "    while len(string) - skip >= len(substring):\n",
    "        # если подстрока s[skip:skip + len(w)] равна слову substring\n",
    "        if string[skip:skip + len(substring)] == substring:\n",
    "           # добавляем кортеж с индексами начала и конца вхождения слова в список A.\n",
    "            A.append((skip, skip + len(substring)))\n",
    "        # увеличиваем значение переменной skip на величину, указанную в таблице смещений для символа, стоящего сразу после последнего символа текущей подстроки.\n",
    "        skip += T[ord(string[skip + len(substring) - 1])]\n",
    "    return A"
   ]
  },
  {
   "cell_type": "markdown",
   "id": "b8358146",
   "metadata": {},
   "source": [
    "Встроенный поиск (Built-in search)"
   ]
  },
  {
   "cell_type": "code",
   "execution_count": 15,
   "id": "b52daae3",
   "metadata": {},
   "outputs": [],
   "source": [
    "def INBS(string, substring):\n",
    "    A = []\n",
    "    index = string.find(substring)\n",
    "    while index != -1:\n",
    "        A.append((index, index + len(substring)))\n",
    "        index = string.find(substring, index + 1)\n",
    "    return A"
   ]
  },
  {
   "cell_type": "markdown",
   "id": "9d52f7a9",
   "metadata": {},
   "source": [
    "Вызов функций алгоритмов и сравнение по времени (Invocation of algorithm functions and time comparison)"
   ]
  },
  {
   "cell_type": "code",
   "execution_count": 25,
   "id": "5e3c9e46-69f8-4fa0-878d-b87199fff0cf",
   "metadata": {},
   "outputs": [
    {
     "name": "stdin",
     "output_type": "stream",
     "text": [
      "Введите строку: Enter the string  ABCDEBCDEACDAEBGGHIJKACEFGKAAVEFGHACRGBADCFEIJKADEFLMNOGAHKLAMI\n",
      "Введите подстроку:Enter a substring:  LAMI\n",
      "Выключить регистр? (Да/Нет):  Turn off the register? (Yes/No) ДА\n",
      "Выключить пробелы? (Да/Нет):Turn off spaces? (Yes/No)  ДА\n"
     ]
    },
    {
     "name": "stdout",
     "output_type": "stream",
     "text": [
      "Теперь строка выглядит: ABCDEBCDEACDAEBGGHIJKACEFGKAAVEFGHACRGBADCFEIJKADEFLMNOGAHKLAMI, а подстрока: LAMI\n",
      "КМР\n",
      "[(59, 63)]\n",
      "0.0003712000325322151 секунд (Seconds)\n",
      "BM\n",
      "[(59, 63)]\n",
      "0.0002916001249104738 секунд (Seconds)\n",
      "Встроенный поиск (Built-in search)\n",
      "[(59, 63)]\n",
      "0.0002570999786257744 секунд (Seconds)\n"
     ]
    }
   ],
   "source": [
    "import timeit\n",
    "\n",
    "string = input(\"Введите строку: Enter the string \")\n",
    "substring = input(\"Введите подстроку:Enter a substring: \")\n",
    "register = input(\"Выключить регистр? (Да/Нет):  Turn off the register? (Yes/No)\")\n",
    "space = input(\"Выключить пробелы? (Да/Нет):Turn off spaces? (Yes/No) \")\n",
    "\n",
    "if register == \"Да\":\n",
    "    string = string.lower()\n",
    "    substring = substring.lower()\n",
    "if space == \"Да\":\n",
    "    string = string.replace(\" \", \"\")\n",
    "print(f\"Теперь строка выглядит: {string}, а подстрока: {substring}\")\n",
    "\n",
    "\n",
    "\n",
    "print(\"КМР\")\n",
    "starttime = timeit.default_timer()\n",
    "print(KMP(string, substring))\n",
    "endtime = timeit.default_timer()\n",
    "print(endtime - starttime, \"секунд (Seconds)\")\n",
    "\n",
    "print(\"BM\")\n",
    "starttime = timeit.default_timer()\n",
    "print(BM(string, substring))\n",
    "endtime = timeit.default_timer()\n",
    "print(endtime - starttime, \"секунд (Seconds)\")\n",
    "\n",
    "print(\"Встроенный поиск (Built-in search)\")\n",
    "starttime = timeit.default_timer()\n",
    "print(INBS(string, substring))\n",
    "endtime = timeit.default_timer()\n",
    "print(endtime - starttime, \"секунд (Seconds)\")"
   ]
  },
  {
   "cell_type": "markdown",
   "id": "11173d86",
   "metadata": {},
   "source": [
    "### Задание №2\n",
    "Написать программу, определяющую, является ли данное\n",
    "расположение «решаемым», то есть можно ли из него за конечное число\n",
    "шагов перейти к правильному. Если это возможно, то необходимо найти хотя\n",
    "бы одно решение - последовательность движений, после которой числа будут\n",
    "расположены в правильном порядке.\n",
    "#### Входные данные: массив чисел, представляющий собой расстановку в\n",
    "Порядке «слева направо, сверху вниз». Число 0 обозначает пустое поле.\n",
    "Например, массив [1, 2, 3, 4, 5, 6, 7, 8, 9, 10, 11, 12, 13, 14, 15,16,17, 0] представляет\n",
    "собой «решенную» позицию элементов.\n",
    "#### Выходные данные: если решения нет, то функция должна вернуть\n",
    "Пустой массив []. Если решение есть, то необходимо представить решение —\n",
    "для каждого шага записывается номер передвигаемого на данном шаге\n",
    "элемента. "
   ]
  },
  {
   "cell_type": "code",
   "execution_count": 24,
   "id": "ec51c904",
   "metadata": {},
   "outputs": [
    {
     "name": "stdout",
     "output_type": "stream",
     "text": [
      "[1, 2, 3, 4, 5, 6, 7, 8, 9, 10, 11, 12, 13, 14, 15, 16, 17, 0]\n"
     ]
    }
   ],
   "source": [
    "N=4\n",
    "# принимает пятнашку в виде двумерного списка и возвращает количество инверсий в списке.\n",
    "# takes a tag in the form of a two-dimensional list and returns the number of inversions in the list.\n",
    "\n",
    "def getInvCount(arr):\n",
    "    arr1=[]\n",
    "    # преобразует двумерный список в одномерный список, чтобы упростить процесс подсчета инверсий.\n",
    "    # Converts a two-dimensional list into a one-dimensional list to simplify the process of counting inversions.\n",
    "    \n",
    "    for y in arr:\n",
    "        for x in y:\n",
    "            arr1.append(x)\n",
    "    arr=arr1\n",
    "    inv_count = 0\n",
    "    # два вложенных цикла для сравнения каждой пары элементов в списке. \n",
    "    # two nested loops to compare each pair of items in the list.\n",
    "    \n",
    "    for i in range(N * N - 1):\n",
    "        for j in range(i + 1,N * N):\n",
    "            if (arr[j] and arr[i] and arr[i] > arr[j]):\n",
    "                inv_count+=1\n",
    "         \n",
    "    # общее количество инверсий в списке. Инверсия - это пара чисел в последовательности, где большее число находится перед меньшим.\n",
    "    # the total number of inversions in the list. An inversion is a pair of numbers in a sequence where the larger number is in front of the smaller one.\n",
    "    return inv_count\n",
    " \n",
    "# принимает пятнашку и возвращает количество строк, которые находятся между пустой ячейкой и нижней границей матрицы.\n",
    "# takes a tag and returns the number of rows that are between the empty cell and the lower border of the matrix.\n",
    "def findXPosition(puzzle):\n",
    "    # начинаем с нижнего правого угла матрицы\n",
    "    for i in range(N - 1,-1,-1):\n",
    "        for j in range(N - 1,-1,-1):\n",
    "            if (puzzle[i][j] == 0):\n",
    "                # возвращает количество строк, которые находятся между этой ячейкой и нижней границей матрицы. \n",
    "                # returns the number of rows that are between this cell and the lower boundary of the matrix.\n",
    "                return N - i\n",
    " \n",
    " \n",
    "#проверяет, является ли пятнашка решаемой, используя количество инверсий и позицию пустой клетки.\n",
    "#checks whether the tag is solvable using the number of inversions and the position of the empty cell.\n",
    "def isSolvable(puzzle):\n",
    "    # считаем количество инверсий\n",
    "    invCount = getInvCount(puzzle)\n",
    " \n",
    "    #проверяем размерность (четность пазла)\n",
    "    #check the dimension (the parity of the puzzle)\n",
    "    if (N & 1):\n",
    "        return ~(invCount & 1)\n",
    " \n",
    "    else:    # если четная \n",
    "        pos = findXPosition(puzzle)\n",
    "        if (pos & 1): #если пустое поле стоит в нечетном ряду \n",
    "                      #if the empty field is in an odd row)\n",
    "            \n",
    "                return ~(invCount & 1) # то возвращаем истину, если инверсий четное количество \n",
    "                                       # then we return the truth if there are an even number of inversions)\n",
    "        else:\n",
    "            return invCount & 1 #возвращаем истину если инверсий нечетное количество\n",
    "                               #we return the truth if there are an odd number of inversions\n",
    "puzzle =[\n",
    "    [12, 1, 10, 4,],\n",
    "    [7, 11, 8, 14,],\n",
    "    [5, 0, 19, 15,], \n",
    "    [16, 13, 6, 3,],]\n",
    "res = isSolvable(puzzle)\n",
    "if res:\n",
    "    print ([1, 2, 3, 4, 5, 6, 7, 8, 9, 10, 11, 12, 13, 14, 15, 16,17,0])\n",
    "else:\n",
    "    []"
   ]
  },
  {
   "cell_type": "markdown",
   "id": "c06b0928",
   "metadata": {},
   "source": [
    "# Вывод"
   ]
  },
  {
   "cell_type": "markdown",
   "id": "f92e5818",
   "metadata": {},
   "source": [
    "Реализовал методы поиска подстроки в строке. Добавил возможность ввода строки и подстроки с клавиатуры. \n",
    "Предусмотрел возможность существования пробела. Реализовал возможность выбора опции чувствительности или нечувствительности к регистру. \n",
    "Оценил время работы каждого алгоритма поиска и сравнить его со временем работы стандартной функции поиска, используемой в выбранном языке программирования"
   ]
  }
 ],
 "metadata": {
  "kernelspec": {
   "display_name": "Python 3 (ipykernel)",
   "language": "python",
   "name": "python3"
  },
  "language_info": {
   "codemirror_mode": {
    "name": "ipython",
    "version": 3
   },
   "file_extension": ".py",
   "mimetype": "text/x-python",
   "name": "python",
   "nbconvert_exporter": "python",
   "pygments_lexer": "ipython3",
   "version": "3.11.7"
  }
 },
 "nbformat": 4,
 "nbformat_minor": 5
}
